{
 "cells": [
  {
   "cell_type": "markdown",
   "metadata": {},
   "source": [
    "# Python_Lab_3\n"
   ]
  },
  {
   "cell_type": "markdown",
   "metadata": {},
   "source": [
    "### Task 1\n",
    "- Write a function named **'create_student_records'** that takes a list of tuples. Each tuple contains a student's name and their scores in three subjects. The function should return a list of dictionaries, where each dictionary represents a student with keys: name, subject1, subject2, subject3. Use list comprehension to create the list of dictionaries."
   ]
  },
  {
   "cell_type": "code",
   "execution_count": 4,
   "metadata": {},
   "outputs": [
    {
     "name": "stdout",
     "output_type": "stream",
     "text": [
      "{'sara': (10, 7, 8), 'khalid': (6, 9, 5), 'Fahad': (10, 9, 10)}\n"
     ]
    }
   ],
   "source": [
    "# write your code here ^_^\n",
    "student_list = [(\"Muhammed\",76,97,84),(\"Khalid\", 84,99,76), (\"Fahad\", 100,94,89)]\n",
    "student_rec = {}\n",
    "def create_student_records(student_list):\n",
    "    for student in student_list:\n",
    "        student_rec[student[0]] = student[1:]\n",
    "    return student_rec\n",
    "\n",
    "student_rec = create_student_records(student_list)\n",
    "print(student_rec)\n",
    "    "
   ]
  },
  {
   "cell_type": "markdown",
   "metadata": {},
   "source": [
    "### Task 2\n",
    "- Write a function named **'filter_and_sort_students'** that takes the list of dictionaries from Question 1 and returns a sorted list of student names who have an average score of 80 or more across all subjects. Sort the names in alphabetical order."
   ]
  },
  {
   "cell_type": "code",
   "execution_count": 12,
   "metadata": {},
   "outputs": [
    {
     "name": "stdout",
     "output_type": "stream",
     "text": [
      "<function filter_students at 0x10faacea0>\n"
     ]
    }
   ],
   "source": [
    "# write your code here ^_^\n",
    "filtered_students = []\n",
    "def filter_students(student_rec):\n",
    "    for name, scores in student_rec.items():\n",
    "        average_score = sum(scores)/len(scores)\n",
    "        \n",
    "    if average_score >= 80:\n",
    "        filtered_students.append(name)\n",
    "    return filtered_students\n",
    "     \n",
    "sorted_students = filter_students(student_rec)\n",
    "print(sorted_students)"
   ]
  },
  {
   "cell_type": "markdown",
   "metadata": {},
   "source": [
    "### Task 3\n",
    "- Write a function named **'get_product_info'** that prompts the user to enter information about a product. The function should ask for the product name, product price, and product quantity. If the user enters an invalid input (e.g., a non-numeric value for the price or quantity), the function should handle the error and prompt the user to enter the value again. Return a dictionary containing the product information."
   ]
  },
  {
   "cell_type": "code",
   "execution_count": 2,
   "metadata": {},
   "outputs": [
    {
     "name": "stdin",
     "output_type": "stream",
     "text": [
      "Enter the product name:  1\n",
      "Enter the product price:  2\n",
      "Enter the product quantity:  3\n"
     ]
    },
    {
     "name": "stdout",
     "output_type": "stream",
     "text": [
      "{'name': '1', 'price': 2, 'quantity': 3}\n"
     ]
    }
   ],
   "source": [
    "# write your code here ^_^\n",
    "def product():\n",
    "    product_info = {}\n",
    "    \n",
    "    product_info['name'] = input(\"Enter the product name: \")\n",
    "    \n",
    "    while True:\n",
    "        try:\n",
    "            product_info['price'] = int(input(\"Enter the product price: \"))\n",
    "            break\n",
    "        except ValueError:\n",
    "            print(\"wrong! Please enter a price.\")\n",
    "    \n",
    "    while True:\n",
    "        try:\n",
    "            product_info['quantity'] = int(input(\"Enter the product quantity: \"))\n",
    "            break\n",
    "        except ValueError:\n",
    "            print(\"wrong! Please enter a quantity.\")\n",
    "    \n",
    "    return product_info\n",
    "\n",
    "product = product()\n",
    "print(product)\n"
   ]
  },
  {
   "cell_type": "markdown",
   "metadata": {},
   "source": [
    "### Task 4\n",
    "- Write a function named **'get_even_numbers'** that takes a list of integers and returns a list of even numbers using list comprehension."
   ]
  },
  {
   "cell_type": "code",
   "execution_count": 12,
   "metadata": {},
   "outputs": [
    {
     "name": "stdout",
     "output_type": "stream",
     "text": [
      "[1, 2, 3, 4, 5, 6, 7, 8, 2, 4, 6, 8, 10]\n"
     ]
    }
   ],
   "source": [
    "# write your code here ^_^\n",
    "def even_numbers(num):\n",
    "    even_num = [1,2,3,4,5,6,7,8]\n",
    "    \n",
    "    for num in num:\n",
    "        if num % 2 == 0:\n",
    "            even_num.append(num)\n",
    "    return even_num\n",
    "\n",
    "list_numbers = [1, 2, 3, 4, 5, 6, 7, 8, 9, 10]\n",
    "even_num = even_numbers(list_numbers)\n",
    "print(even_num) \n",
    "\n",
    "\n",
    "\n",
    "\n"
   ]
  },
  {
   "cell_type": "markdown",
   "metadata": {},
   "source": [
    "### Task 5\n",
    "- Write a function named **'pair_elements'** that takes two lists of equal length as parameters and returns a list of tuples, where each tuple contains corresponding elements from the two lists. Use the zip function to achieve this."
   ]
  },
  {
   "cell_type": "markdown",
   "metadata": {},
   "source": []
  },
  {
   "cell_type": "code",
   "execution_count": null,
   "metadata": {},
   "outputs": [],
   "source": [
    "# write your code here ^_^"
   ]
  },
  {
   "cell_type": "markdown",
   "metadata": {},
   "source": [
    "### Task 6\n",
    "- Write a function named **'square_dict_lambda'** that takes a list of integers and returns a dictionary where the keys are the integers and the values are their squares. Use a lambda function within a dictionary comprehension to achieve this."
   ]
  },
  {
   "cell_type": "code",
   "execution_count": null,
   "metadata": {},
   "outputs": [],
   "source": [
    "# write your code here ^_^"
   ]
  }
 ],
 "metadata": {
  "kernelspec": {
   "display_name": "Python 3 (ipykernel)",
   "language": "python",
   "name": "python3"
  },
  "language_info": {
   "codemirror_mode": {
    "name": "ipython",
    "version": 3
   },
   "file_extension": ".py",
   "mimetype": "text/x-python",
   "name": "python",
   "nbconvert_exporter": "python",
   "pygments_lexer": "ipython3",
   "version": "3.11.7"
  }
 },
 "nbformat": 4,
 "nbformat_minor": 4
}
